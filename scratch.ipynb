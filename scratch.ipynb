{
 "cells": [
  {
   "cell_type": "markdown",
   "metadata": {},
   "source": [
    "# Resources and Notes"
   ]
  },
  {
   "cell_type": "markdown",
   "metadata": {},
   "source": [
    " https://github.com/botlnec/islp\n",
    "\n",
    " Videos:\n",
    "https://www.youtube.com/watch?v=LvySJGj-88U&list=PLoROMvodv4rOzrYsAxzQyHb8n_RWNuS1e&index=1\n"
   ]
  },
  {
   "cell_type": "markdown",
   "metadata": {},
   "source": [
    "Example of importing modules"
   ]
  },
  {
   "cell_type": "code",
   "execution_count": 1,
   "metadata": {},
   "outputs": [],
   "source": [
    "import ISLP as islp\n",
    "import numpy as np\n",
    "import pandas as pd\n",
    "import plotly.express as px\n",
    "import matplotlib.pyplot as plt"
   ]
  },
  {
   "cell_type": "markdown",
   "metadata": {},
   "source": [
    "Markdown for defining $\\KaTeX$ preamble\n",
    "$\\newcommand{\\Var}{\\operatorname{Var}}$\n",
    "$\\newcommand{\\E}{\\operatorname{\\mathbb E}}$\n",
    "$\\newcommand{\\R}{\\mathbb R}$\n",
    "$\\newcommand{\\Bias}{\\operatorname{Bias}}$\n"
   ]
  },
  {
   "cell_type": "markdown",
   "metadata": {},
   "source": [
    "## Ch 2\n",
    "### Definitions and Notation\n",
    "\n",
    " $X_1,\\dots,X_p$ denotes training data, $X_0$ is test (outsample) data. When its capital letters its either a random variable or an abstract model? The $p$ denotes the number of predictors (i.e. independent variables/features/variables). The model is abstractly\n",
    "\n",
    "$$ Y=f(X)+\\epsilon \\tag{2.1}$$\n",
    "$Y$ is the response/dependent variable. $\\epsilon$ is noise inherrent to the model: WLOG $ \\E\\epsilon=0$,  $\\Var\\epsilon = 1$, and independent from the predictors (i.e. we cannot predict the error)\n",
    "\n",
    "We denote the number of observations by $n$, so that the observations of the predictors are $x_j=(x_{1j}, x_{2j},\\dots x_{nj})$, for $j=1,\\dots,p$.\n",
    "\n",
    "*Parametric and non-parametric models*:\n",
    "\n",
    "*Prediction Accuracy*:\n",
    "\n",
    "*Model Interpretability*:\n",
    "\n",
    "*Test MSE*:\n",
    "\n",
    "Variance: \"the amount by which $\\hat f$ would change if we estimated it using a different training data set.\" - i.e. variance by treating the training data as random variables\n",
    "\n",
    "Bias: the error that is introduced by approximating a real-life problem, which may be extremely complicated, by a much simpler model. \n",
    "\n",
    "$$ E|y_0 - \\hat f(x_0)|^2 = \\Var\\hat f(x_0) + (\\Bias \\hat f(x_0))^2 + \\Var\\epsilon \\tag{2.7}$$\n",
    "\n",
    "---\n",
    "\n",
    "$$\\color{orange}\\fbox{Important quote from book:}$$\n",
    "\n",
    "> Here the notation $\\E|y_0 - \\hat f(x_0)|^2$ defines the expected test MSE at $x_0$, expected test MSE and refers to the average test MSE that we would obtain if we repeatedly estimated f using a large number of training sets, and tested each at $x_0$. The overall expected test MSE can be computed by averaging $\\E|y_0 - \\hat f(x_0)|^2$ over all possible values of $x_0$ in the test set. "
   ]
  },
  {
   "cell_type": "markdown",
   "metadata": {},
   "source": [
    "Derivation of (2.7): \n",
    "\\begin{align*}\n",
    "\\operatorname{LHS}(2.7)\n",
    "&=  \\E|f(x_0) - \\hat f(x_0) + \\epsilon|^2 \\\\\n",
    "&= \\E|f(x_0) - \\E \\hat f(x_0) + (\\E \\hat f(x_0) - \\hat f(x_0)) + \\epsilon|^2 \\\\\n",
    "&= \\E|f(x_0) - \\E\\hat f(x_0)|^2 + \\E|\\epsilon|^2 + \\E|\\hat f(x_0) - \\E\\hat f(x_0)|^2 + 2\\E\\epsilon (f(x_0) - \\hat f(x_0) ) \\\\\n",
    "&= | f(x_0) - \\E\\hat f(x_0)|^2 + \\E|\\epsilon|^2 + \\E|\\hat f(x_0) - \\E\\hat f(x_0)|^2 + 2\\E\\epsilon (f(x_0) - \\hat f(x_0) ) \\\\\n",
    "&=: \\Bias^2 + \\Var\\epsilon + \\Var\\hat f(x_0) + 0 \\text{ (since }\\epsilon\\text{ is independent)} = \\operatorname{RHS}(2.7).\n",
    "\\end{align*}"
   ]
  },
  {
   "cell_type": "markdown",
   "metadata": {},
   "source": [
    "### Bias-Variance Tradeoff"
   ]
  },
  {
   "cell_type": "markdown",
   "metadata": {},
   "source": [
    "Bias, Variance and Test MSE against Flexibility"
   ]
  },
  {
   "cell_type": "markdown",
   "metadata": {},
   "source": [
    "Bayes Predictor https://mlweb.loria.fr/book/en/bayesclassifier.html"
   ]
  },
  {
   "cell_type": "markdown",
   "metadata": {},
   "source": [
    "Regression vs Classification"
   ]
  },
  {
   "cell_type": "markdown",
   "metadata": {},
   "source": [
    "Given data "
   ]
  },
  {
   "cell_type": "markdown",
   "metadata": {},
   "source": []
  }
 ],
 "metadata": {
  "kernelspec": {
   "display_name": ".venv",
   "language": "python",
   "name": "python3"
  },
  "language_info": {
   "codemirror_mode": {
    "name": "ipython",
    "version": 3
   },
   "file_extension": ".py",
   "mimetype": "text/x-python",
   "name": "python",
   "nbconvert_exporter": "python",
   "pygments_lexer": "ipython3",
   "version": "3.11.3"
  },
  "orig_nbformat": 4
 },
 "nbformat": 4,
 "nbformat_minor": 2
}
