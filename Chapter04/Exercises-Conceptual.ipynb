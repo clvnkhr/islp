{
 "cells": [
  {
   "cell_type": "code",
   "execution_count": 1,
   "metadata": {},
   "outputs": [],
   "source": [
    "import numpy as np"
   ]
  },
  {
   "cell_type": "markdown",
   "metadata": {},
   "source": [
    "# 4.8 Exercises"
   ]
  },
  {
   "cell_type": "markdown",
   "metadata": {},
   "source": [
    "## Conceptual"
   ]
  },
  {
   "cell_type": "markdown",
   "metadata": {},
   "source": [
    "### 1.\n",
    "\n",
    "Prove the following is equivalent:\n",
    "\n",
    "$$\\begin{align}\n",
    "    p\\left(X\\right) &= \\frac{e^{\\beta_0 + \\beta_1 X}}{1 + e^{\\beta_0 + \\beta_1 X}}\\tag{4.2}\\\\\n",
    "    &\\Updownarrow\\nonumber\\\\\n",
    "    \\frac{p\\left(X\\right)}{1 - p\\left(X\\right)} &= e^{\\beta_0 + \\beta_1 X}\\tag{4.3}\n",
    "\\end{align}$$\n",
    "\n",
    "### Answer\n",
    "\n",
    "$$\\begin{align*}\n",
    "    p\\left(X\\right) &= \\frac{e^{\\beta_0 + \\beta_1 X}}{1 + e^{\\beta_0 + \\beta_1 X}}\\tag{4.2}\\\\\n",
    "    &\\Updownarrow\\nonumber\\\\\n",
    "    p\\left(X\\right)\\left(1 + e^{\\beta_0 + \\beta_1 X}\\right) &= e^{\\beta_0 + \\beta_1 X}\\\\\n",
    "    &\\Updownarrow\\nonumber\\\\\n",
    "    p\\left(X\\right) &= e^{\\beta_0 + \\beta_1 X}\\left(1 - p\\left(X\\right)\\right)\\\\\n",
    "    &\\Updownarrow\\nonumber\\\\\n",
    "    \\frac{p\\left(X\\right)}{1 - p\\left(X\\right)} &= e^{\\beta_0 + \\beta_1 X}\\tag{4.3}\n",
    "\\end{align*}$$"
   ]
  },
  {
   "cell_type": "markdown",
   "metadata": {},
   "source": [
    "### 2.\n",
    "\n",
    "It was stated in the text that classifying an observation to the class for which (4.17) is largest is equivalent to classifying an observation to the class for which (4.18) is largest. Prove that this is the case. In other words, under the assumption that the observations in the kth class are drawn from a N(µk, σ2) distribution, the Bayes classifier assigns an observation to the class for which the discriminant function is maximized.\n",
    "\n",
    "$$\\tag{4.17}\n",
    "    p_k\\left(x\\right) = \\frac{\\pi_k\\frac{1}{\\sqrt{2\\pi\\sigma^2}}\\exp\\left(-\\frac{1}{2\\sigma^2}\\left(x-\\mu_k\\right)^2\\right)}{\\sum_{l=1}^K\\pi_l\\frac{1}{\\sqrt{2\\pi\\sigma^2}}\\exp\\left(-\\frac{1}{2\\sigma^2}\\left(x-\\mu_l\\right)^2\\right)}\n",
    "$$\n",
    "\n",
    "$$\\tag{4.18}\n",
    "    \\delta_k\\left(x\\right) = x\\cdot\\frac{\\mu_k}{\\sigma^2} - \\frac{\\mu_k^2}{2\\sigma^2} + \\log\\left(\\pi_k\\right)\n",
    "$$\n",
    "\n",
    "\n",
    "### Answer\n",
    "\n",
    "- We assume that $x$ has distribution $N\\left(\\mu_k, \\sigma^2\\right)$ that it comes from $k$-th class\n",
    "- We assume $x$ is observed\n",
    "- We will start by taking log of $\\left(4.17\\right)$\n",
    "- We note that the denominator of the fraction in $\\left(4.17\\right)$ is independent of $k$ when we are maximizing over $k$ as that sum will be the same for any $k$\n",
    "- Therefore, we will only focus on the numerator:\n",
    "\n",
    "$$\\begin{align*}\n",
    "    \\log\\left(\\pi_k\\frac{1}{\\sqrt{2\\pi\\sigma^2}}\\exp\\left(-\\frac{1}{2\\sigma^2}\\left(x-\\mu_k\\right)^2\\right)\\right)\n",
    "    &= \\log\\left(\\pi_k\\right) -\\underbrace{\\frac{1}{2}\\log\\left(2\\pi\\sigma^2\\right)}_{\\text{independent of } k} -\\frac{1}{2\\sigma^2}\\left(x-\\mu_k\\right)^2\\\\\n",
    "    &= \\log\\left(\\pi_k\\right) -\\underbrace{\\frac{x^2}{2\\sigma^2}}_{\\text{independent of } k} + x\\cdot\\frac{\\mu_k}{\\sigma^2} -\\frac{\\mu_k^2}{2\\sigma^2}\\\\\n",
    "    &= x\\cdot\\frac{\\mu_k}{\\sigma^2} -\\frac{\\mu_k^2}{2\\sigma^2} + \\log\\left(\\pi_k\\right)\\\\\n",
    "\\end{align*}$$\n",
    "\n",
    "- As log is a strictly increasing function, maximizing $\\left(4.17\\right)$ is the same as maximizing $\\left(4.18\\right)$ with respect to $k$ for a fixed (observed) $x$"
   ]
  },
  {
   "cell_type": "markdown",
   "metadata": {},
   "source": [
    "### 3.\n",
    "\n",
    "This problem relates to the QDA model, in which the observations within each class are drawn from a normal distribution with a class specific mean vector and a class specific covariance matrix. We consider the simple case where p = 1; i.e. there is only one feature. Suppose that we have K classes, and that if an observation belongs to the kth class then X comes from a one-dimensional normal distribution, X ∼ N(µk, σ2k). Recall that the density function for the one-dimensional normal distribution is given in (4.16). Prove that in this case, the Bayes classifier is not linear. Argue that it is in fact quadratic.\n",
    "\n",
    "Hint: For this problem, you should follow the arguments laid out in Section 4.4.1, but without making the assumption that σ21 = ··· = σ2K.\n",
    "\n",
    "$$\\tag{4.16}\n",
    "f_k\\left(x\\right) = \\frac{1}{\\sqrt{2\\pi\\sigma_k^2}}\\exp\\left(-\\frac{1}{2\\sigma_k^2}\\left(x-\\mu_k\\right)^2\\right)\n",
    "$$\n",
    "\n",
    "### Answer\n",
    "\n",
    "- We assume that $x$ has distribution $N\\left(\\mu_k, \\sigma_k^2\\right)$ that it comes from $k$-th class\n",
    "- We assume $x$ is observed\n",
    "- We will start by taking log of the following equation:\n",
    "$$\n",
    "    p_k\\left(x\\right) = \\frac{\\pi_k\\frac{1}{\\sqrt{2\\pi\\sigma_k^2}}\\exp\\left(-\\frac{1}{2\\sigma_k^2}\\left(x-\\mu_k\\right)^2\\right)}{\\sum_{l=1}^K\\pi_l\\frac{1}{\\sqrt{2\\pi\\sigma_l^2}}\\exp\\left(-\\frac{1}{2\\sigma_l^2}\\left(x-\\mu_l\\right)^2\\right)}\n",
    "$$\n",
    "- We note that the denominator of the fraction in the above equation is independent of $k$ when we are maximizing over $k$ as that sum will be the same for any $k$\n",
    "- Therefore, we will only focus on the numerator:\n",
    "\n",
    "$$\\begin{align*}\n",
    "    \\log\\left(\\pi_k\\frac{1}{\\sqrt{2\\pi\\sigma_k^2}}\\exp\\left(-\\frac{1}{2\\sigma_k^2}\\left(x-\\mu_k\\right)^2\\right)\\right)\n",
    "    &= \\log\\left(\\pi_k\\right) -\\frac{1}{2}\\log\\left(2\\pi\\sigma_k^2\\right) - \\frac{1}{2\\sigma_k^2}\\left(x-\\mu_k\\right)^2\\\\\n",
    "    &= \\log\\left(\\pi_k\\right) -\\frac{1}{2}\\log\\left(2\\pi\\sigma_k^2\\right) -\\frac{x^2}{2\\sigma_k^2} + x\\cdot\\frac{\\mu_k}{\\sigma^2} -\\frac{\\mu_k^2}{2\\sigma^2}\\\\\n",
    "    &= -x^2\\cdot\\frac{1}{2\\sigma_k^2} + x\\cdot\\frac{\\mu_k}{\\sigma^2} -\\frac{\\mu_k^2}{2\\sigma^2} + \\log\\left(\\pi_k\\right)-\\frac{1}{2}\\log\\left(2\\pi\\sigma_k^2\\right)\\\\\n",
    "\\end{align*}$$\n",
    "\n",
    "- We can see that the final line is a quadratic function of $x$ and not linear"
   ]
  },
  {
   "cell_type": "markdown",
   "metadata": {},
   "source": [
    "### 4. \n",
    "\n",
    "When the number of features p is large, there tends to be a deterioration in the performance of KNN and other local approaches that perform prediction using only observations that are near the test observation for which a prediction must be made. This phenomenon is known as the curse of dimensionality, and it ties into the fact that non-parametric approaches often perform poorly when p is large. We will now investigate this curse.\n",
    "\n",
    "a) Suppose that we have a set of observations, each with measurements on p = 1 feature, X. We assume that X is uniformly (evenly) distributed on [0, 1]. Associated with each observation is a response value. Suppose that we wish to predict a test observation’s response using only observations that are within 10 % of the range of X closest to that test observation. For instance, in order to predict the response for a test observation with X = 0.6, we will use observations in the range [0.55, 0.65]. On average, what fraction of the available observations will we use to make the prediction?\n",
    "\n",
    "### Answer \n",
    "\n",
    "- $10\\%$\n",
    "\n",
    "b) Now suppose that we have a set of observations, each with measurements on p = 2 features, X1 and X2. We assume that (X1, X2) are uniformly distributed on [0, 1] × [0, 1]. We wish to predict a test observation’s response using only observations that are within 10 % of the range of X1 and within 10 % of the range of X2 closest to that test observation. For instance, in order to predict the response for a test observation with X1 = 0.6 and X2 = 0.35, we will use observations in the range [0.55, 0.65] for X1 and in the range [0.3, 0.4] for X2. On average, what fraction of the available observations will we use to make the prediction?\n",
    "\n",
    "### Answer\n",
    "\n",
    "- $1\\% = 10\\%^2$\n",
    "\n",
    "c) Now suppose that we have a set of observations on p = 100 features. Again the observations are uniformly distributed on each feature, and again each feature ranges in value from 0 to 1. We wish to predict a test observation’s response using observations within the 10 % of each feature’s range that is closest to that test observation. What fraction of the available observations will we use to make the prediction?\n",
    "\n",
    "### Answer\n",
    "\n",
    "- $10\\%^{100} = \\left(10^{-1}\\right)^{-100} = 10^{-100}$\n",
    "\n",
    "d) Using your answers to parts (a)–(c), argue that a drawback of KNN when p is large is that there are very few training observations “near” any given test observation.\n",
    "\n",
    "### Answer\n",
    "- We can see that the number of training observations near any given test observation decreases exponentially\n",
    "- Therefore, we will start to overfit very quickly\n",
    "- In other words if we want to avoid overfitting, we would need to have exponentially more data points for each new dimension of our feature\n",
    "\n",
    "e) Now suppose that we wish to make a prediction for a test observation by creating a p-dimensional hypercube centered around the test observation that contains, on average, 10 % of the training observations. For p = 1, 2, and 100, what is the length of each side of the hypercube? Comment on your answer\n",
    "\n",
    "Note: A hypercube is a generalization of a cube to an arbitrary number of dimensions. When p = 1, a hypercube is simply a line segment, when p = 2 it is a square, and when p = 100 it is a 100-dimensional cube.\n",
    "\n",
    "### Answer\n",
    "\n",
    "|$p$|length of hypercube|\n",
    "|---|---|\n",
    "| 1 |0.1|\n",
    "| 2 |0.3|\n",
    "|100|0.98|\n",
    "\n",
    "- We get the length of hypercube $l$ by the following formula (where $p$ is the number of features):\n",
    "\n",
    "$$ l^p = 0.1$$"
   ]
  },
  {
   "cell_type": "markdown",
   "metadata": {},
   "source": [
    "### 5.\n",
    "\n",
    "We now examine the diferences between LDA and QDA.\n",
    "\n",
    "a) If the Bayes decision boundary is linear, do we expect LDA or QDA to perform better on the training set? On the test set?\n",
    "\n",
    "### Answer \n",
    "\n",
    "- For training set, QDA > LDA\n",
    "- For test set, LDA > QDA\n",
    "\n",
    "b) If the Bayes decision boundary is non-linear, do we expect LDA or QDA to perform better on the training set? On the test set?\n",
    "\n",
    "### Answer \n",
    "\n",
    "- For training set, QDA > LDA\n",
    "- For test set, QDA > LDA\n",
    "\n",
    "c) In general, as the sample size n increases, do we expect the test prediction accuracy of QDA relative to LDA to improve, decline, or be unchanged? Why?\n",
    "\n",
    "### Answer\n",
    "\n",
    "- In general, the test prediction accuracy for QDA should improve relative to LDA as it has more degrees of freedom hence needs more data than LDA.\n",
    "- Even if the true Bayes decision boundary is linear, QDA should converse to $\\sigma_1^2 = ... = \\sigma_K^2$ which would lead to a LDA solution\n",
    "\n",
    "d) True or False: Even if the Bayes decision boundary for a given problem is linear, we will probably achieve a superior test error rate using QDA rather than LDA because QDA is flexible enough to model a linear decision boundary. Justify your answer.\n",
    "\n",
    "- Yes but only if the training set is large enough\n",
    "- If your training set is not large enough then this will not be the case due to overfitting"
   ]
  },
  {
   "cell_type": "markdown",
   "metadata": {},
   "source": [
    "### 6.\n",
    "\n",
    "Suppose we collect data for a group of students in a statistics class with variables X1 = hours studied, X2 = undergrad GPA, and Y = receive an A. We fit a logistic regression and produce estimated coefficients, βˆ0 = −6, βˆ1 = 0.05, βˆ2 = 1.\n"
   ]
  },
  {
   "cell_type": "markdown",
   "metadata": {},
   "source": [
    "a) Estimate the probability that a student who studies for 40 h and has an undergrad GPA of 3.5 gets an A in the class."
   ]
  },
  {
   "cell_type": "markdown",
   "metadata": {},
   "source": [
    "### Answer"
   ]
  },
  {
   "cell_type": "code",
   "execution_count": 2,
   "metadata": {},
   "outputs": [
    {
     "name": "stdout",
     "output_type": "stream",
     "text": [
      "probability_of_a=0.38\n"
     ]
    }
   ],
   "source": [
    "β0 = -6\n",
    "β1 = 0.05\n",
    "β2 = 1\n",
    "\n",
    "x1 = 40\n",
    "x2 = 3.5\n",
    "\n",
    "# This is equivalent to e^(...) / (1 + e^(...)) from above\n",
    "probability_of_a = 1 / (1 + np.exp(-(β0 + β1 * x1 + β2 * x2)))\n",
    "\n",
    "print(f\"{probability_of_a=:.2f}\")"
   ]
  },
  {
   "cell_type": "markdown",
   "metadata": {},
   "source": [
    "\n",
    "b) How many hours would the student in part (a) need to study to have a 50 % chance of getting an A in the class?"
   ]
  },
  {
   "cell_type": "markdown",
   "metadata": {},
   "source": [
    "### Answer\n",
    "\n",
    "$$\\begin{align*}\n",
    "\\frac{p\\left(X_1,X_2\\right)}{1 - p\\left(X_1,X_2\\right)} &= e^{\\beta_0 + \\beta_1 X_1 + \\beta_2 X_2}\\\\\n",
    "&\\Updownarrow\\\\\n",
    "\\log\\left(\\frac{p\\left(X_1,X_2\\right)}{1 - p\\left(X_1,X_2\\right)}\\right) &= \\beta_0 + \\beta_1 X_1 + \\beta_2 X_2\\\\\n",
    "&\\Updownarrow\\\\\n",
    "\\frac{1}{\\beta_1}\\left(\\log\\left(\\frac{p\\left(X_1,X_2\\right)}{1 - p\\left(X_1,X_2\\right)}\\right) -\\beta_0 - \\beta_2 X_2\\right) &= X_1 \\\\\n",
    "\\end{align*}$$"
   ]
  },
  {
   "cell_type": "code",
   "execution_count": 3,
   "metadata": {},
   "outputs": [
    {
     "name": "stdout",
     "output_type": "stream",
     "text": [
      "x1=50\n"
     ]
    }
   ],
   "source": [
    "probability_of_a = 0.5\n",
    "\n",
    "β0 = -6\n",
    "β1 = 0.05\n",
    "β2 = 1\n",
    "\n",
    "x2 = 3.5\n",
    "\n",
    "x1 = (np.log(probability_of_a / (1 - probability_of_a)) - β0 - β2 * x2) / β1\n",
    "\n",
    "print(f\"{x1=:.0f}\")"
   ]
  },
  {
   "cell_type": "markdown",
   "metadata": {},
   "source": [
    "### 7.\n",
    "\n",
    "Suppose that we wish to predict whether a given stock will issue a dividend this year (“Yes” or “No”) based on X, last year’s percent profit. We examine a large number of companies and discover that the mean value of X for companies that issued a dividend was X¯ = 10, while the mean for those that didn’t was X¯ = 0. In addition, the variance of X for these two sets of companies was σˆ2 = 36. Finally, 80 % of companies issued dividends. Assuming that X follows a normal distribution, predict the probability that a company will issue a dividend this year given that its percentage proft was X = 4 last year.\n",
    "\n",
    "Hint: Recall that the density function for a normal random variable is f(x) = √1 2πσ2 e−(x−µ)2/2σ2. You will need to use Bayes’ theorem."
   ]
  },
  {
   "cell_type": "markdown",
   "metadata": {},
   "source": [
    "### Answer\n",
    "\n",
    "- We use the following formula, adjusted from above:\n",
    "\n",
    "$$\n",
    "    p_{\\text{YES}}\\left(x\\right) = \\frac{\\pi_{\\text{YES}}\\frac{1}{\\sqrt{2\\pi\\sigma^2}}\\exp\\left(-\\frac{1}{2\\sigma^2}\\left(x-\\mu_{\\text{YES}}\\right)^2\\right)}{\\pi_{\\text{YES}}\\frac{1}{\\sqrt{2\\pi\\sigma^2}}\\exp\\left(-\\frac{1}{2\\sigma^2}\\left(x-\\mu_{\\text{YES}}\\right)^2\\right) + \\pi_{\\text{NO}}\\frac{1}{\\sqrt{2\\pi\\sigma^2}}\\exp\\left(-\\frac{1}{2\\sigma^2}\\left(x-\\mu_{\\text{NO}}\\right)^2\\right)}\n",
    "$$"
   ]
  },
  {
   "cell_type": "code",
   "execution_count": 4,
   "metadata": {},
   "outputs": [
    {
     "name": "stdout",
     "output_type": "stream",
     "text": [
      "prob_dividend_given_value_4=0.7519\n"
     ]
    }
   ],
   "source": [
    "μ_YES = 10\n",
    "μ_NO = 0\n",
    "\n",
    "σ2 = 36\n",
    "\n",
    "π_YES = 0.8\n",
    "π_NO = 1 - π_YES\n",
    "\n",
    "sqrt_2_pi_variance = np.sqrt(2 * np.pi * σ2)\n",
    "\n",
    "value = 4\n",
    "prob_dividend_and_value_4 = π_YES * np.exp(-(value - μ_YES) ** 2 / (2 * σ2)) / sqrt_2_pi_variance\n",
    "prob_no_dividend_and_value_4 = π_NO * np.exp(-(value - μ_NO) ** 2 / (2 * σ2)) / sqrt_2_pi_variance\n",
    "\n",
    "prob_dividend_given_value_4 = prob_dividend_and_value_4 / (prob_dividend_and_value_4 + prob_no_dividend_and_value_4)\n",
    "\n",
    "print(f\"{prob_dividend_given_value_4=:.4f}\")"
   ]
  },
  {
   "cell_type": "markdown",
   "metadata": {},
   "source": [
    "### Extra\n",
    "\n",
    "Finding Bayes decision boundary:\n",
    "\n",
    "- Discriminant function for YES:\n",
    "$$\\begin{align*}\n",
    "\\delta_{\\text{YES}}\\left(x\\right) = x\\cdot \\frac{\\mu_{\\text{YES}}}{\\sigma^2} - \\frac{\\mu_{\\text{YES}}^2}{2\\sigma^2} + \\log\\left(\\pi_{\\text{YES}}\\right)\n",
    "\\end{align*}$$\n",
    "- Discriminant function for NO:\n",
    "$$\\begin{align*}\n",
    "\\delta_{\\text{NO}}\\left(x\\right) = x\\cdot \\frac{\\mu_{\\text{NO}}}{\\sigma^2} - \\frac{\\mu_{\\text{NO}}^2}{2\\sigma^2} + \\log\\left(\\pi_{\\text{NO}}\\right)\n",
    "\\end{align*}$$\n",
    "- Therefore we want to find $x$ such that $\\delta_{\\text{YES}}=\\delta_{\\text{NO}}$:\n",
    "\n",
    "$$\\begin{align*}\n",
    "\\delta_{\\text{YES}} &= \\delta_{\\text{NO}}\\\\\n",
    "&\\Updownarrow\\\\\n",
    "x\\cdot \\frac{\\mu_{\\text{YES}}}{\\sigma^2} - \\frac{\\mu_{\\text{YES}}^2}{2\\sigma^2} + \\log\\left(\\pi_{\\text{YES}}\\right) &= x\\cdot \\frac{\\mu_{\\text{NO}}}{\\sigma^2} - \\frac{\\mu_{\\text{NO}}^2}{2\\sigma^2} + \\log\\left(\\pi_{\\text{NO}}\\right)\\\\\n",
    "&\\Updownarrow\\\\\n",
    "x\\cdot\\left(\\frac{\\mu_{\\text{YES}}}{\\sigma^2} - \\frac{\\mu_{\\text{NO}}}{\\sigma^2}\\right) &= \\frac{\\mu_{\\text{YES}}^2}{2\\sigma^2} - \\frac{\\mu_{\\text{NO}}^2}{2\\sigma^2} + \\log\\left(\\pi_{\\text{NO}}\\right) - \\log\\left(\\pi_{\\text{YES}}\\right)\\\\\n",
    "&\\Updownarrow\\\\\n",
    "x &= \\left(\\frac{\\mu_{\\text{YES}}^2}{2\\sigma^2} - \\frac{\\mu_{\\text{NO}}^2}{2\\sigma^2} + \\log\\left(\\pi_{\\text{NO}}\\right) - \\log\\left(\\pi_{\\text{YES}}\\right)\\right)\\cdot\\frac{\\sigma^2}{\\mu_{\\text{YES}} - \\mu_{\\text{NO}}}\\\\\n",
    "\\end{align*}$$"
   ]
  },
  {
   "cell_type": "code",
   "execution_count": 5,
   "metadata": {},
   "outputs": [
    {
     "name": "stdout",
     "output_type": "stream",
     "text": [
      "bayes_decision_boundary=0.0093\n"
     ]
    }
   ],
   "source": [
    "μ_YES = 10\n",
    "μ_NO = 0\n",
    "\n",
    "σ2 = 36\n",
    "\n",
    "π_YES = 0.8\n",
    "π_NO = 1 - π_YES\n",
    "\n",
    "bayes_decision_boundary = ((μ_YES ** 2 - μ_NO ** 2) / (2 * σ2) + np.log(π_NO) - np.log(π_YES)) * σ2 / (μ_YES - μ_NO)\n",
    "\n",
    "print(f\"{bayes_decision_boundary=:.4f}\")\n",
    "\n",
    "# TODO: Make a plot here"
   ]
  },
  {
   "cell_type": "markdown",
   "metadata": {},
   "source": [
    "### 8.\n",
    "\n",
    "Suppose that we take a data set, divide it into equally-sized training and test sets, and then try out two different classification procedures. First we use logistic regression and get an error rate of 20 % on the training data and 30 % on the test data. Next we use 1-nearest neighbors (i.e. K = 1) and get an average error rate (averaged over both test and training data sets) of 18 %. Based on these results, which method should we prefer to use for classification of new observations? Why?\n",
    "\n",
    "### Answer\n",
    "\n",
    "- For 1-nearest neighbor, the training error rate would be 0%, this is because you would always choose the same observation for the classification\n",
    "- This implies that the test error rate would be 36% as the training and test set size are equal\n",
    "- Therefore we would go with logistic regression over 1-nearest neighbor due to the lower test error rate; 30% versus 36%"
   ]
  },
  {
   "cell_type": "markdown",
   "metadata": {},
   "source": [
    "### 9.\n",
    "\n",
    "This problem has to do with odds.\n",
    "\n",
    "a) On average, what fraction of people with an odds of 0.37 of defaulting on their credit card payment will in fact default?\n",
    "\n",
    "### Answer\n",
    "\n",
    "$$\\begin{align*}\n",
    "\\frac{p\\left(X\\right)}{1-p\\left(X\\right)} &= 0.37\\\\\n",
    "&\\Updownarrow\\\\\n",
    "p\\left(X\\right) &= \\frac{0.37}{1.37}\\\\\n",
    "&\\Updownarrow\\\\\n",
    "p\\left(X\\right) &= 0.27 \\quad(2 \\text{d.p.})\\\\\n",
    "\\end{align*}$$\n",
    "\n",
    "b) Suppose that an individual has a 16 % chance of defaulting on her credit card payment. What are the odds that she will default?\n",
    "\n",
    "### Answer\n",
    "\n",
    "$$\n",
    "\\text{odds} = \\frac{p\\left(X\\right)}{1-p\\left(X\\right)} = \\frac{0.16}{1-0.16} = 0.19 \\quad(2 \\text{d.p.})\n",
    "$$"
   ]
  },
  {
   "cell_type": "markdown",
   "metadata": {},
   "source": [
    "### 10.\n",
    "\n",
    "Equation 4.32 derived an expression for log 1 Pr(Y =k|X=x)\n",
    "Pr(Y =K|X=x)\n",
    "2\n",
    "in the setting where p > 1, so that the mean for the kth class, µk, is a pdimensional vector, and the shared covariance Σ is a p × p matrix. However, in the setting with p = 1, (4.32) takes a simpler form, since the means µ1,...,µK and the variance σ2 are scalars. In this simpler setting, repeat the calculation in (4.32), and provide expressions for ak and bkj in terms of πk, πK, µk, µK, and σ2.\n",
    "\n",
    "(4.32) on p162\n",
    "\n",
    "### Answer\n",
    "\n",
    "$$\\begin{align*}\n",
    "\\log\\left(\\frac{\\mathbb{P}\\left[Y=k\\mid X=x\\right]}{\\mathbb{P}\\left[Y=K\\mid X=x\\right]}\\right)\n",
    "&= \\log\\left(\\frac{\\frac{\\mathbb{P}\\left[X=x\\mid Y=k\\right]\\cdot\\mathbb{P}\\left[Y=k\\right]}{\\mathbb{P}\\left[X=x\\right]}}{\\frac{\\mathbb{P}\\left[X=x\\mid Y=K\\right]\\cdot\\mathbb{P}\\left[Y=K\\right]}{\\mathbb{P}\\left[X=x\\right]}}\\right)\\\\\n",
    "&= \\log\\left(\\frac{\\mathbb{P}\\left[X=x\\mid Y=k\\right]\\cdot\\mathbb{P}\\left[Y=k\\right]}{\\mathbb{P}\\left[X=x\\mid Y=K\\right]\\cdot\\mathbb{P}\\left[Y=K\\right]}\\right)\\\\\n",
    "&= \\log\\left(\\frac{f_K\\left(x\\right)\\cdot\\pi_k}{f_K\\left(x\\right)\\cdot\\pi_K}\\right)\\\\\n",
    "&= \\log\\left(\\frac{\\pi_k\\cdot \\frac{1}{\\sqrt{2\\pi\\sigma^2}}\\cdot e^{-\\left(x-\\mu_k\\right)^2/2\\sigma^2}}{\\pi_K\\cdot \\frac{1}{\\sqrt{2\\pi\\sigma^2}}\\cdot e^{-\\left(x-\\mu_K\\right)^2/2\\sigma^2}}\\right)\\\\\n",
    "&= \\log\\left(\\frac{\\pi_k}{\\pi_K}\\right) + \\frac{\\left(x-\\mu_K\\right)^2 - \\left(x-\\mu_k\\right)^2}{2\\sigma^2}\\\\\n",
    "&= \\log\\left(\\frac{\\pi_k}{\\pi_K}\\right) + \\frac{x^2 - 2x\\mu_K + \\mu_K^2 -x^2 + 2x\\mu_k - \\mu_k^2}{2\\sigma^2}\\\\\n",
    "&= \\underbrace{\\log\\left(\\frac{\\pi_k}{\\pi_K}\\right) + \\frac{\\mu_K^2 - \\mu_k^2}{2\\sigma^2}}_{a_k} + x\\cdot\\underbrace{\\frac{\\mu_k - \\mu_K}{\\sigma^2}}_{b_k}\n",
    "\\end{align*}$$"
   ]
  },
  {
   "cell_type": "markdown",
   "metadata": {},
   "source": [
    "### 11.\n",
    "Work out the detailed forms of ak, bkj , and bkjl in (4.33). Your answer should involve πk, πK, µk, µK, Σk, and ΣK.\n",
    "\n",
    "(4.33) on p162\n",
    "\n",
    "### Answer\n",
    "\n",
    "$$\\begin{align*}\n",
    "\\log\\left(\\frac{\\mathbb{P}\\left[Y=k\\mid X=x\\right]}{\\mathbb{P}\\left[Y=K\\mid X=x\\right]}\\right)\n",
    "&= \\log\\left(\\frac{\\frac{\\mathbb{P}\\left[X=x\\mid Y=k\\right]\\cdot\\mathbb{P}\\left[Y=k\\right]}{\\mathbb{P}\\left[X=x\\right]}}{\\frac{\\mathbb{P}\\left[X=x\\mid Y=K\\right]\\cdot\\mathbb{P}\\left[Y=K\\right]}{\\mathbb{P}\\left[X=x\\right]}}\\right)\\\\\n",
    "&= \\log\\left(\\frac{\\mathbb{P}\\left[X=x\\mid Y=k\\right]\\cdot\\mathbb{P}\\left[Y=k\\right]}{\\mathbb{P}\\left[X=x\\mid Y=K\\right]\\cdot\\mathbb{P}\\left[Y=K\\right]}\\right)\\\\\n",
    "&= \\log\\left(\\frac{f_K\\left(x\\right)\\cdot\\pi_k}{f_K\\left(x\\right)\\cdot\\pi_K}\\right)\\\\\n",
    "&= \\log\\left(\\frac{\\pi_k\\cdot \\frac{1}{\\sqrt{\\left(2\\pi\\right)^p\\left|\\Sigma_k\\right|}}\\cdot e^{-\\left(x-\\mu_k\\right)'\\Sigma_k^{-1}\\left(x-\\mu_k\\right)/2}}{\\pi_K\\cdot \\frac{1}{\\sqrt{\\left(2\\pi\\right)^p\\left|\\Sigma_K\\right|}}\\cdot e^{-\\left(x-\\mu_K\\right)'\\Sigma_K^{-1}\\left(x-\\mu_K\\right)/2}}\\right)\\\\\n",
    "&= \\log\\left(\\frac{\\pi_k\\left|\\Sigma_K\\right|^{1/2}}{\\pi_K\\left|\\Sigma_k\\right|^{1/2}}\\right) + \\frac{1}{2}\\left(\\left(x-\\mu_K\\right)'\\Sigma_K^{-1}\\left(x-\\mu_K\\right) - \\left(x-\\mu_k\\right)'\\Sigma_k^{-1}\\left(x-\\mu_k\\right)\\right)\\\\\n",
    "&= \\log\\left(\\frac{\\pi_k\\left|\\Sigma_K\\right|^{1/2}}{\\pi_K\\left|\\Sigma_k\\right|^{1/2}}\\right) + \\frac{1}{2}\\left(x'\\Sigma_K^{-1}x - x'\\Sigma_k^{-1}x + 2\\left(x'\\Sigma_k^{-1}\\mu_k -x'\\Sigma_K^{-1}\\mu_K \\right) + \\mu_K'\\Sigma_K^{-1}\\mu_K - \\mu_k'\\Sigma_k\\mu_k \\right)\\\\\n",
    "&= \\underbrace{\\log\\left(\\frac{\\pi_k\\left|\\Sigma_K\\right|^{1/2}}{\\pi_K\\left|\\Sigma_k\\right|^{1/2}}\\right) + \\frac{1}{2}\\left(\\mu_K'\\Sigma_K^{-1}\\mu_K - \\mu_k'\\Sigma_k\\mu_k\\right)}_{a_k} + x'\\underbrace{\\left(\\Sigma_k^{-1}\\mu_k -\\Sigma_K^{-1}\\mu_K\\right)}_{b_k} + x'\\underbrace{\\left(\\frac{\\Sigma_K^{-1} - \\Sigma_k^{-1}}{2}\\right)}_{c_k}x\\\\\n",
    "\\end{align*}$$"
   ]
  },
  {
   "cell_type": "markdown",
   "metadata": {},
   "source": [
    "### 12.\n",
    "\n",
    "Suppose that you wish to classify an observation X ∈ R into `apples` and `oranges`. You ft a logistic regression model and find that:\n",
    "\n",
    "Pr( 6 Y = orange|X = x) = exp(βˆ0 + βˆ1x)\n",
    "1 + exp(βˆ0 + βˆ1x)\n",
    ".\n",
    "\n",
    "Your friend fts a logistic regression model to the same data using the softmax formulation in (4.13), and finds that:\n",
    "\n",
    "Pr( 6 Y = orange|X = x) =\n",
    "exp(ˆαorange0 + ˆαorange1x)\n",
    "exp(ˆαorange0 + ˆαorange1x) + exp(ˆαapple0 + ˆαapple1x)\n",
    ".\n",
    "\n",
    "a) What is the log odds of orange versus apple in your model?\n",
    "\n",
    "### Answer\n",
    "\n",
    "$$\\begin{align*}\n",
    "\\text{log-odds}\n",
    "&= \\log\\left(\\frac{p\\left(X\\right)}{1-p\\left(X\\right)}\\right)\\\\\n",
    "&= \\log\\left(e^{\\hat{\\beta}_0 + \\hat{\\beta}_1x}\\right)\\\\\n",
    "&= \\hat{\\beta}_0 + \\hat{\\beta}_1x\n",
    "\\end{align*}$$\n",
    "\n",
    "b) What is the log odds of orange versus apple in your friend’s model?\n",
    "\n",
    "### Answer\n",
    "\n",
    "$$\\begin{align*}\n",
    "\\text{log-odds} \n",
    "&= \\log\\left(\\frac{p\\left(X\\right)}{1-p\\left(X\\right)}\\right)\\\\\n",
    "&= \\log\\left(\\frac{\\frac{\\exp\\left(\\hat{\\alpha}_{\\text{orange},0} + \\hat{\\alpha}_{\\text{orange},1}x\\right)}{\\exp\\left(\\hat{\\alpha}_{\\text{orange},0} + \\hat{\\alpha}_{\\text{orange},1}x\\right)+\\exp\\left(\\hat{\\alpha}_{\\text{apple},0} + \\hat{\\alpha}_{\\text{apple},1}x\\right)}}{\\frac{\\exp\\left(\\hat{\\alpha}_{\\text{apple},0} + \\hat{\\alpha}_{\\text{apple},1}x\\right)}{\\exp\\left(\\hat{\\alpha}_{\\text{orange},0} + \\hat{\\alpha}_{\\text{orange},1}x\\right)+\\exp\\left(\\hat{\\alpha}_{\\text{apple},0} + \\hat{\\alpha}_{\\text{apple},1}x\\right)}}\\right)\\\\\n",
    "&= \\log\\left(\\frac{\\exp\\left(\\hat{\\alpha}_{\\text{orange},0} + \\hat{\\alpha}_{\\text{orange},1}x\\right)}{\\exp\\left(\\hat{\\alpha}_{\\text{apple},0} + \\hat{\\alpha}_{\\text{apple},1}x\\right)}\\right)\\\\\n",
    "&= \\hat{\\alpha}_{\\text{orange},0} - \\hat{\\alpha}_{\\text{apple},0} + \\left(\\hat{\\alpha}_{\\text{orange},1} - \\hat{\\alpha}_{\\text{apple},1}\\right)x\n",
    "\\end{align*}$$\n",
    "\n",
    "c) Suppose that in your model, βˆ0 = 2 and βˆ1 = −1. What are the coefficient estimates in your friend’s model? Be as specific as possible.\n",
    "\n",
    "### Answer\n",
    "\n",
    "- From (a) and (b), we have the following through equality of log-odds:\n",
    "\n",
    "$$\\hat{\\alpha}_{\\text{orange},0} - \\hat{\\alpha}_{\\text{apple},0} = \\hat{\\beta}_0 = 2$$\n",
    "\n",
    "$$\\hat{\\alpha}_{\\text{orange},1} - \\hat{\\alpha}_{\\text{apple},1} = \\hat{\\beta}_1 = -1$$\n",
    "\n",
    "- We cannot get any more specific than that\n",
    "\n",
    "\n",
    "d) Now suppose that you and your friend ft the same two models on a different data set. This time, your friend gets the coefficient\n",
    "estimates αˆorange0 = 1.2, αˆorange1 = −2, αˆapple0 = 3, αˆapple1 = 0.6 (TYPO!!). What are the coefficient estimates in your model?\n",
    "\n",
    "### Answer\n",
    "\n",
    "- From (a) and (b), we have the following through equality of log-odds:\n",
    "\n",
    "$$\\hat{\\beta}_0 = \\hat{\\alpha}_{\\text{orange},0} - \\hat{\\alpha}_{\\text{apple},0} = 1.2 - 3 = -1.8$$\n",
    "\n",
    "$$\\hat{\\beta}_1 = \\hat{\\alpha}_{\\text{orange},1} - \\hat{\\alpha}_{\\text{apple},1} = -2 - (-0.6) = -1.4$$\n",
    "\n",
    "e) Finally, suppose you apply both models from (d) to a data set with 2,000 test observations. What fraction of the time do you expect the predicted class labels from your model to agree with those from your friend’s model? Explain your answer.\n",
    "\n",
    "### Answer\n",
    "\n",
    "- We expect the the predicted class labels should be the same in our model versus our friend's model\n",
    "- This is because the softmax coding is completely equivalent coding to the (multinomial) logistic coding\n",
    "- The fitted values, log odds between any two pair of classes and other key model outputs should be the same\n",
    "- Logistic regression coding uses a chosen class as a baseline so all the coefficients are relative to that baseline class\n",
    "- Softmax does not have a baseline class and treats every class symmetrically, thus we also estimate coefficients for all $K$ classes instead of the $K-1$ classes for logistic"
   ]
  }
 ],
 "metadata": {
  "kernelspec": {
   "display_name": "islp",
   "language": "python",
   "name": "python3"
  },
  "language_info": {
   "codemirror_mode": {
    "name": "ipython",
    "version": 3
   },
   "file_extension": ".py",
   "mimetype": "text/x-python",
   "name": "python",
   "nbconvert_exporter": "python",
   "pygments_lexer": "ipython3",
   "version": "3.11.5"
  }
 },
 "nbformat": 4,
 "nbformat_minor": 2
}
