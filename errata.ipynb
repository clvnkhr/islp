{
 "cells": [
  {
   "cell_type": "markdown",
   "metadata": {},
   "source": [
    "# Errata.ipynb: pull errata and add those found"
   ]
  },
  {
   "cell_type": "code",
   "execution_count": 1,
   "metadata": {},
   "outputs": [],
   "source": [
    "import requests\n",
    "import pandas as pd\n",
    "import bs4\n",
    "pd.set_option('display.max_rows', 1000)\n",
    "pd.set_option('display.max_colwidth', 300)"
   ]
  },
  {
   "cell_type": "markdown",
   "metadata": {},
   "source": [
    "getting the page data: creates list of `<p>` tags in the appropriate div"
   ]
  },
  {
   "cell_type": "code",
   "execution_count": 2,
   "metadata": {},
   "outputs": [],
   "source": [
    "url = \"https://www.statlearning.com/errata-python-edition\"\n",
    "response = requests.get(url)\n",
    "soup = bs4.BeautifulSoup(response.text, \"html.parser\")\n",
    "ps = (\n",
    "    soup.find_all(\"div\", class_=\"sqs-html-content\")[1] # 1 was manually determined \n",
    "        .find_all(\"p\")\n",
    ")"
   ]
  },
  {
   "cell_type": "markdown",
   "metadata": {},
   "source": [
    "Formatting into DataFrame"
   ]
  },
  {
   "cell_type": "code",
   "execution_count": 8,
   "metadata": {},
   "outputs": [],
   "source": [
    "from copy import copy\n",
    "errata_list = []\n",
    "for p in ps:\n",
    "    if p.text[:2].lower() in [\"in\", \"on\"]: \n",
    "        # nb casefold does more than lower but we won't need it atm\n",
    "        pp = copy(p)\n",
    "        em = \"\"\n",
    "        if pp.em:\n",
    "            em = pp.em.extract().text.strip() \n",
    "            if em[-1]=='.': \n",
    "                em = em[:-1]\n",
    "            thanks_to = \"Thanks to\"\n",
    "            if em and em[: len(thanks_to)].lower() == thanks_to.lower():\n",
    "                em = em[len(thanks_to):]\n",
    "        errata_list.append([pp.text, em, True])\n",
    "errata = pd.DataFrame(\n",
    "    errata_list, \n",
    "    columns=[\"Errata\", \"Attribution\", \"From Author Website\"]\n",
    "    )\n"
   ]
  },
  {
   "cell_type": "markdown",
   "metadata": {},
   "source": [
    "Pull out page number from the erratum"
   ]
  },
  {
   "cell_type": "code",
   "execution_count": 4,
   "metadata": {},
   "outputs": [],
   "source": [
    "# Import re module\n",
    "import re\n",
    "\n",
    "# Define extract_digits function\n",
    "def extract_digits(string):\n",
    "    # Find the first match of one or more digits in the string\n",
    "    match = re.search(r\"\\d+\", string)\n",
    "    # Get the matched substring or None\n",
    "    digits = match.group() if match else None\n",
    "    # Convert the substring to an integer or 0\n",
    "    return int(digits) if digits else 0\n",
    "\n",
    "errata[\"Page Number\"] = errata[\"Errata\"].apply(extract_digits)"
   ]
  },
  {
   "cell_type": "markdown",
   "metadata": {},
   "source": [
    "Viewing the data.\n",
    "  - as of 18th September 2023, there are 18 entries"
   ]
  },
  {
   "cell_type": "code",
   "execution_count": 7,
   "metadata": {},
   "outputs": [
    {
     "name": "stdout",
     "output_type": "stream",
     "text": [
      "number of rows: 18\n"
     ]
    },
    {
     "data": {
      "text/html": [
       "<style type=\"text/css\">\n",
       "#T_cf09d th {\n",
       "  text-align: left;\n",
       "}\n",
       "#T_cf09d_row0_col0, #T_cf09d_row0_col1, #T_cf09d_row0_col2, #T_cf09d_row0_col3, #T_cf09d_row1_col0, #T_cf09d_row1_col1, #T_cf09d_row1_col2, #T_cf09d_row1_col3, #T_cf09d_row2_col0, #T_cf09d_row2_col1, #T_cf09d_row2_col2, #T_cf09d_row2_col3, #T_cf09d_row3_col0, #T_cf09d_row3_col1, #T_cf09d_row3_col2, #T_cf09d_row3_col3, #T_cf09d_row4_col0, #T_cf09d_row4_col1, #T_cf09d_row4_col2, #T_cf09d_row4_col3, #T_cf09d_row5_col0, #T_cf09d_row5_col1, #T_cf09d_row5_col2, #T_cf09d_row5_col3, #T_cf09d_row6_col0, #T_cf09d_row6_col1, #T_cf09d_row6_col2, #T_cf09d_row6_col3, #T_cf09d_row7_col0, #T_cf09d_row7_col1, #T_cf09d_row7_col2, #T_cf09d_row7_col3, #T_cf09d_row8_col0, #T_cf09d_row8_col1, #T_cf09d_row8_col2, #T_cf09d_row8_col3, #T_cf09d_row9_col0, #T_cf09d_row9_col1, #T_cf09d_row9_col2, #T_cf09d_row9_col3, #T_cf09d_row10_col0, #T_cf09d_row10_col1, #T_cf09d_row10_col2, #T_cf09d_row10_col3, #T_cf09d_row11_col0, #T_cf09d_row11_col1, #T_cf09d_row11_col2, #T_cf09d_row11_col3, #T_cf09d_row12_col0, #T_cf09d_row12_col1, #T_cf09d_row12_col2, #T_cf09d_row12_col3, #T_cf09d_row13_col0, #T_cf09d_row13_col1, #T_cf09d_row13_col2, #T_cf09d_row13_col3, #T_cf09d_row14_col0, #T_cf09d_row14_col1, #T_cf09d_row14_col2, #T_cf09d_row14_col3, #T_cf09d_row15_col0, #T_cf09d_row15_col1, #T_cf09d_row15_col2, #T_cf09d_row15_col3, #T_cf09d_row16_col0, #T_cf09d_row16_col1, #T_cf09d_row16_col2, #T_cf09d_row16_col3, #T_cf09d_row17_col0, #T_cf09d_row17_col1, #T_cf09d_row17_col2, #T_cf09d_row17_col3 {\n",
       "  text-align: left;\n",
       "}\n",
       "</style>\n",
       "<table id=\"T_cf09d\">\n",
       "  <thead>\n",
       "    <tr>\n",
       "      <th class=\"blank level0\" >&nbsp;</th>\n",
       "      <th id=\"T_cf09d_level0_col0\" class=\"col_heading level0 col0\" >Errata</th>\n",
       "      <th id=\"T_cf09d_level0_col1\" class=\"col_heading level0 col1\" >Attribution</th>\n",
       "      <th id=\"T_cf09d_level0_col2\" class=\"col_heading level0 col2\" >From Author Website</th>\n",
       "      <th id=\"T_cf09d_level0_col3\" class=\"col_heading level0 col3\" >Page Number</th>\n",
       "    </tr>\n",
       "  </thead>\n",
       "  <tbody>\n",
       "    <tr>\n",
       "      <th id=\"T_cf09d_level0_row0\" class=\"row_heading level0 row0\" >0</th>\n",
       "      <td id=\"T_cf09d_row0_col0\" class=\"data row0 col0\" >On page 44, “Out[22]:” should not be numbered. </td>\n",
       "      <td id=\"T_cf09d_row0_col1\" class=\"data row0 col1\" >The authors</td>\n",
       "      <td id=\"T_cf09d_row0_col2\" class=\"data row0 col2\" >True</td>\n",
       "      <td id=\"T_cf09d_row0_col3\" class=\"data row0 col3\" >44</td>\n",
       "    </tr>\n",
       "    <tr>\n",
       "      <th id=\"T_cf09d_level0_row1\" class=\"row_heading level0 row1\" >1</th>\n",
       "      <td id=\"T_cf09d_row1_col0\" class=\"data row1 col0\" >On page 49, the input block after “In[43]:” should be numbered (this will affect the numbering of downstream input blocks as well).  </td>\n",
       "      <td id=\"T_cf09d_row1_col1\" class=\"data row1 col1\" >The authors</td>\n",
       "      <td id=\"T_cf09d_row1_col2\" class=\"data row1 col2\" >True</td>\n",
       "      <td id=\"T_cf09d_row1_col3\" class=\"data row1 col3\" >49</td>\n",
       "    </tr>\n",
       "    <tr>\n",
       "      <th id=\"T_cf09d_level0_row2\" class=\"row_heading level0 row2\" >2</th>\n",
       "      <td id=\"T_cf09d_row2_col0\" class=\"data row2 col0\" >On page 61, block 103, there should be a semi-colon in the last line to indicate that the output should be suppressed. Also, the semi-colon in the first line is superfluous, and should be removed. </td>\n",
       "      <td id=\"T_cf09d_row2_col1\" class=\"data row2 col1\" > Julien Gomes</td>\n",
       "      <td id=\"T_cf09d_row2_col2\" class=\"data row2 col2\" >True</td>\n",
       "      <td id=\"T_cf09d_row2_col3\" class=\"data row2 col3\" >61</td>\n",
       "    </tr>\n",
       "    <tr>\n",
       "      <th id=\"T_cf09d_level0_row3\" class=\"row_heading level0 row3\" >3</th>\n",
       "      <td id=\"T_cf09d_row3_col0\" class=\"data row3 col0\" >On page 66, there is an error in the code in Exercise 2(f): the linecollege['Elite'] = pd.cut(college['Top10perc'], [0,0.5,1], labels=['No', 'Yes'])should be replaced withcollege[“Elite”] = pd.cut(college[“Top10perc”]/100, [0, 0.5, 1], labels = [“No, “Yes”]).</td>\n",
       "      <td id=\"T_cf09d_row3_col1\" class=\"data row3 col1\" > Dylan Owens</td>\n",
       "      <td id=\"T_cf09d_row3_col2\" class=\"data row3 col2\" >True</td>\n",
       "      <td id=\"T_cf09d_row3_col3\" class=\"data row3 col3\" >66</td>\n",
       "    </tr>\n",
       "    <tr>\n",
       "      <th id=\"T_cf09d_level0_row4\" class=\"row_heading level0 row4\" >4</th>\n",
       "      <td id=\"T_cf09d_row4_col0\" class=\"data row4 col0\" >In the footnote on the bottom of page 76, the sentence \"Details of how to compute the 95% confidence interval precisely in R will be provided later in this chapter\" should mention Python instead of R.  </td>\n",
       "      <td id=\"T_cf09d_row4_col1\" class=\"data row4 col1\" > Rush Kirubi</td>\n",
       "      <td id=\"T_cf09d_row4_col2\" class=\"data row4 col2\" >True</td>\n",
       "      <td id=\"T_cf09d_row4_col3\" class=\"data row4 col3\" >76</td>\n",
       "    </tr>\n",
       "    <tr>\n",
       "      <th id=\"T_cf09d_level0_row5\" class=\"row_heading level0 row5\" >5</th>\n",
       "      <td id=\"T_cf09d_row5_col0\" class=\"data row5 col0\" >On the bottom of page 81, the sentence “Any statistical software package can be used to compute these coefficient estimates, and later in this chapter we will show how this can be done in R.” should mention Python instead of R.  </td>\n",
       "      <td id=\"T_cf09d_row5_col1\" class=\"data row5 col1\" > Jasmin Bogatinovski and Omar Mallick</td>\n",
       "      <td id=\"T_cf09d_row5_col2\" class=\"data row5 col2\" >True</td>\n",
       "      <td id=\"T_cf09d_row5_col3\" class=\"data row5 col3\" >81</td>\n",
       "    </tr>\n",
       "    <tr>\n",
       "      <th id=\"T_cf09d_level0_row6\" class=\"row_heading level0 row6\" >6</th>\n",
       "      <td id=\"T_cf09d_row6_col0\" class=\"data row6 col0\" >On the top of page 94: The sentence “It is estimated that those in the South will have $18.69 less debt than those in the East, and that those in the West will have $12.50 less debt than those in the East” should instead say “It is estimated that those in the West will have $18.69 less debt than those in the East, and that those in the South will have $12.50 less debt than those in the East. </td>\n",
       "      <td id=\"T_cf09d_row6_col1\" class=\"data row6 col1\" > Yongjun Zhu and Felipe Provezano Coutinho</td>\n",
       "      <td id=\"T_cf09d_row6_col2\" class=\"data row6 col2\" >True</td>\n",
       "      <td id=\"T_cf09d_row6_col3\" class=\"data row6 col3\" >94</td>\n",
       "    </tr>\n",
       "    <tr>\n",
       "      <th id=\"T_cf09d_level0_row7\" class=\"row_heading level0 row7\" >7</th>\n",
       "      <td id=\"T_cf09d_row7_col0\" class=\"data row7 col0\" >On page 131, exercise 11d: \"Show algebraically, and confirm numerically in R\" should read \"Show algebraically, and confirm numerically in Python\". </td>\n",
       "      <td id=\"T_cf09d_row7_col1\" class=\"data row7 col1\" > Julien Gomes</td>\n",
       "      <td id=\"T_cf09d_row7_col2\" class=\"data row7 col2\" >True</td>\n",
       "      <td id=\"T_cf09d_row7_col3\" class=\"data row7 col3\" >131</td>\n",
       "    </tr>\n",
       "    <tr>\n",
       "      <th id=\"T_cf09d_level0_row8\" class=\"row_heading level0 row8\" >8</th>\n",
       "      <td id=\"T_cf09d_row8_col0\" class=\"data row8 col0\" >On the bottom of page 184, the last sentence is missing two words. It should read: “In this case Purchase has only Yes and No values and the method returns how many values of each there are.”  </td>\n",
       "      <td id=\"T_cf09d_row8_col1\" class=\"data row8 col1\" > Johannes Ruf</td>\n",
       "      <td id=\"T_cf09d_row8_col2\" class=\"data row8 col2\" >True</td>\n",
       "      <td id=\"T_cf09d_row8_col3\" class=\"data row8 col3\" >184</td>\n",
       "    </tr>\n",
       "    <tr>\n",
       "      <th id=\"T_cf09d_level0_row9\" class=\"row_heading level0 row9\" >9</th>\n",
       "      <td id=\"T_cf09d_row9_col0\" class=\"data row9 col0\" >On page 187, the printed text under “In[60]:” should not be in green. </td>\n",
       "      <td id=\"T_cf09d_row9_col1\" class=\"data row9 col1\" >The authors</td>\n",
       "      <td id=\"T_cf09d_row9_col2\" class=\"data row9 col2\" >True</td>\n",
       "      <td id=\"T_cf09d_row9_col3\" class=\"data row9 col3\" >187</td>\n",
       "    </tr>\n",
       "    <tr>\n",
       "      <th id=\"T_cf09d_level0_row10\" class=\"row_heading level0 row10\" >10</th>\n",
       "      <td id=\"T_cf09d_row10_col0\" class=\"data row10 col0\" >On page 188, there are a series of typos, all due to an error in code block 61. In code block 61, the linelogit_labels = np.where(logit_pred[:,1] > 5, 'Yes', 'No')should instead saylogit_labels = np.where(logit_pred[:,1] > 0.5, 'Yes', 'No')With this typo corrected, a correction is also needed in code block 62: the first column of the contingency table should contain “931, 2” instead of “933, 0”. Finally, in the text that follows, the sentence “If we use 0.5 as the predicted probability cut-off for the classifier, then we have a problem: none of the test observations are predicted to purchase insurance.” should be corrected as follows: “If we use 0.5 as the predicted probability cut-off for the classifier, then we have a problem: only two of the test observations are predicted to purchase insurance.” </td>\n",
       "      <td id=\"T_cf09d_row10_col1\" class=\"data row10 col1\" > Lauren Chen</td>\n",
       "      <td id=\"T_cf09d_row10_col2\" class=\"data row10 col2\" >True</td>\n",
       "      <td id=\"T_cf09d_row10_col3\" class=\"data row10 col3\" >188</td>\n",
       "    </tr>\n",
       "    <tr>\n",
       "      <th id=\"T_cf09d_level0_row11\" class=\"row_heading level0 row11\" >11</th>\n",
       "      <td id=\"T_cf09d_row11_col0\" class=\"data row11 col0\" >On page 196, exercise 12d, the last two estimates should have the subscript “apple” instead of “orange”. </td>\n",
       "      <td id=\"T_cf09d_row11_col1\" class=\"data row11 col1\" > Sundong Kim</td>\n",
       "      <td id=\"T_cf09d_row11_col2\" class=\"data row11 col2\" >True</td>\n",
       "      <td id=\"T_cf09d_row11_col3\" class=\"data row11 col3\" >196</td>\n",
       "    </tr>\n",
       "    <tr>\n",
       "      <th id=\"T_cf09d_level0_row12\" class=\"row_heading level0 row12\" >12</th>\n",
       "      <td id=\"T_cf09d_row12_col0\" class=\"data row12 col0\" >On page 225, there’s an error in the code for performing the bootstrap. The linestore[i] = np.sum(rng.choice(100, replace=True) == 4) > 0should be replaced with store[i] = np.sum(rng.choice(100, size=100, replace=True) == 4) > 0 </td>\n",
       "      <td id=\"T_cf09d_row12_col1\" class=\"data row12 col1\" > Alistair Bertrand Sands Keiller</td>\n",
       "      <td id=\"T_cf09d_row12_col2\" class=\"data row12 col2\" >True</td>\n",
       "      <td id=\"T_cf09d_row12_col3\" class=\"data row12 col3\" >225</td>\n",
       "    </tr>\n",
       "    <tr>\n",
       "      <th id=\"T_cf09d_level0_row13\" class=\"row_heading level0 row13\" >13</th>\n",
       "      <td id=\"T_cf09d_row13_col0\" class=\"data row13 col0\" >On page 231, Algorithm 6.1, Step 3: delete the extra word “using”. </td>\n",
       "      <td id=\"T_cf09d_row13_col1\" class=\"data row13 col1\" > Mario Pepe</td>\n",
       "      <td id=\"T_cf09d_row13_col2\" class=\"data row13 col2\" >True</td>\n",
       "      <td id=\"T_cf09d_row13_col3\" class=\"data row13 col3\" >231</td>\n",
       "    </tr>\n",
       "    <tr>\n",
       "      <th id=\"T_cf09d_level0_row14\" class=\"row_heading level0 row14\" >14</th>\n",
       "      <td id=\"T_cf09d_row14_col0\" class=\"data row14 col0\" >On page 358, there is an error in the confusion table. Instead of [108 61, 10 21] it should say [94 32, 24 50].  </td>\n",
       "      <td id=\"T_cf09d_row14_col1\" class=\"data row14 col1\" > Lauren Chen</td>\n",
       "      <td id=\"T_cf09d_row14_col2\" class=\"data row14 col2\" >True</td>\n",
       "      <td id=\"T_cf09d_row14_col3\" class=\"data row14 col3\" >358</td>\n",
       "    </tr>\n",
       "    <tr>\n",
       "      <th id=\"T_cf09d_level0_row15\" class=\"row_heading level0 row15\" >15</th>\n",
       "      <td id=\"T_cf09d_row15_col0\" class=\"data row15 col0\" >On page 486, the x-axis of Figure 11.7 is missing a vertical line in the denominator (i.e. a single vertical line should be replaced with a double vertical line in the norm symbol). </td>\n",
       "      <td id=\"T_cf09d_row15_col1\" class=\"data row15 col1\" ></td>\n",
       "      <td id=\"T_cf09d_row15_col2\" class=\"data row15 col2\" >True</td>\n",
       "      <td id=\"T_cf09d_row15_col3\" class=\"data row15 col3\" >486</td>\n",
       "    </tr>\n",
       "    <tr>\n",
       "      <th id=\"T_cf09d_level0_row16\" class=\"row_heading level0 row16\" >16</th>\n",
       "      <td id=\"T_cf09d_row16_col0\" class=\"data row16 col0\" >On the bottom of page 511: “we can use (12.11) to see that the PVE defined in (12.10) equals . . . ” should be replaced with “we can use (12.11) to see that the PVE defined in (12.10), summed over the first $M$ principal components, equals . . .”.  </td>\n",
       "      <td id=\"T_cf09d_row16_col1\" class=\"data row16 col1\" > Zhuyun Yin</td>\n",
       "      <td id=\"T_cf09d_row16_col2\" class=\"data row16 col2\" >True</td>\n",
       "      <td id=\"T_cf09d_row16_col3\" class=\"data row16 col3\" >511</td>\n",
       "    </tr>\n",
       "    <tr>\n",
       "      <th id=\"T_cf09d_level0_row17\" class=\"row_heading level0 row17\" >17</th>\n",
       "      <td id=\"T_cf09d_row17_col0\" class=\"data row17 col0\" >On page 561, the sentence “Typically, the R function that is used to compute a test statistic will make…” should mention Python, not R. </td>\n",
       "      <td id=\"T_cf09d_row17_col1\" class=\"data row17 col1\" > Yongjun Zhu</td>\n",
       "      <td id=\"T_cf09d_row17_col2\" class=\"data row17 col2\" >True</td>\n",
       "      <td id=\"T_cf09d_row17_col3\" class=\"data row17 col3\" >561</td>\n",
       "    </tr>\n",
       "  </tbody>\n",
       "</table>\n"
      ],
      "text/plain": [
       "<pandas.io.formats.style.Styler at 0x1341fbd90>"
      ]
     },
     "execution_count": 7,
     "metadata": {},
     "output_type": "execute_result"
    }
   ],
   "source": [
    "print(\"number of rows:\", len(errata))\n",
    "(\n",
    "    errata.style.set_properties(**{\"text-align\": \"left\"}) #left-align text\n",
    "        .set_table_styles([dict(selector=\"th\", props=[(\"text-align\", \"left\")])]) #left-align headers\n",
    ")"
   ]
  },
  {
   "cell_type": "markdown",
   "metadata": {},
   "source": [
    "Saving the errata DataFrame to disk"
   ]
  },
  {
   "cell_type": "code",
   "execution_count": 6,
   "metadata": {},
   "outputs": [],
   "source": [
    "errata.to_csv(\"errata.csv\")"
   ]
  },
  {
   "cell_type": "markdown",
   "metadata": {},
   "source": [
    "Optional: Saving Raw HTML (mainly for debugging)"
   ]
  },
  {
   "cell_type": "code",
   "execution_count": 9,
   "metadata": {},
   "outputs": [
    {
     "data": {
      "text/plain": [
       "273711"
      ]
     },
     "execution_count": 9,
     "metadata": {},
     "output_type": "execute_result"
    }
   ],
   "source": [
    "from pathlib import Path\n",
    "raw_response = Path(\"./errata.html\")\n",
    "raw_response.write_text(response.text)"
   ]
  },
  {
   "cell_type": "code",
   "execution_count": null,
   "metadata": {},
   "outputs": [],
   "source": []
  }
 ],
 "metadata": {
  "kernelspec": {
   "display_name": ".venv",
   "language": "python",
   "name": "python3"
  },
  "language_info": {
   "codemirror_mode": {
    "name": "ipython",
    "version": 3
   },
   "file_extension": ".py",
   "mimetype": "text/x-python",
   "name": "python",
   "nbconvert_exporter": "python",
   "pygments_lexer": "ipython3",
   "version": "3.11.3"
  },
  "orig_nbformat": 4
 },
 "nbformat": 4,
 "nbformat_minor": 2
}
