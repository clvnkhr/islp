{
 "cells": [
  {
   "cell_type": "markdown",
   "id": "a626b602",
   "metadata": {},
   "source": [
    "# <center><font color=\"teal\">Introduction to Statistical Learning in Python 🐍\n",
    "    \n",
    "## <font color=\"teal\">Book Club Idea & Format 💡\n",
    "\n",
    "- **Reading** \n",
    "    - (Everyone)<br><br>\n",
    "- **Maths & Chapter Summary**\n",
    "    - (Person 1)<br><br>\n",
    "- **Exercises** \n",
    "    - (Person 2)<br><br>\n",
    "- **Further Reading/Resources** \n",
    "    - (Shared between others)<br><br>\n",
    "- **Write-up** \n",
    "    - (Person 1 & 2)\n"
   ]
  }
 ],
 "metadata": {
  "celltoolbar": "Slideshow",
  "kernelspec": {
   "display_name": "Python 3 (ipykernel)",
   "language": "python",
   "name": "python3"
  },
  "language_info": {
   "codemirror_mode": {
    "name": "ipython",
    "version": 3
   },
   "file_extension": ".py",
   "mimetype": "text/x-python",
   "name": "python",
   "nbconvert_exporter": "python",
   "pygments_lexer": "ipython3",
   "version": "3.11.4"
  }
 },
 "nbformat": 4,
 "nbformat_minor": 5
}
